{
  "nbformat": 4,
  "nbformat_minor": 0,
  "metadata": {
    "colab": {
      "name": "Covid19exp3AldoSoraluz.ipynb",
      "provenance": []
    },
    "kernelspec": {
      "name": "python3",
      "display_name": "Python 3"
    },
    "accelerator": "GPU"
  },
  "cells": [
    {
      "cell_type": "code",
      "metadata": {
        "id": "rpoYYCKtZd_o",
        "colab_type": "code",
        "colab": {
          "base_uri": "https://localhost:8080/",
          "height": 124
        },
        "outputId": "cdf8215b-fef0-4df2-dff1-19da994589d8"
      },
      "source": [
        "#Para montar Gdrive en Colab\n",
        "from google.colab import drive\n",
        "drive.mount('/content/drive')"
      ],
      "execution_count": 1,
      "outputs": [
        {
          "output_type": "stream",
          "text": [
            "Go to this URL in a browser: https://accounts.google.com/o/oauth2/auth?client_id=947318989803-6bn6qk8qdgf4n4g3pfee6491hc0brc4i.apps.googleusercontent.com&redirect_uri=urn%3aietf%3awg%3aoauth%3a2.0%3aoob&response_type=code&scope=email%20https%3a%2f%2fwww.googleapis.com%2fauth%2fdocs.test%20https%3a%2f%2fwww.googleapis.com%2fauth%2fdrive%20https%3a%2f%2fwww.googleapis.com%2fauth%2fdrive.photos.readonly%20https%3a%2f%2fwww.googleapis.com%2fauth%2fpeopleapi.readonly\n",
            "\n",
            "Enter your authorization code:\n",
            "··········\n",
            "Mounted at /content/drive\n"
          ],
          "name": "stdout"
        }
      ]
    },
    {
      "cell_type": "code",
      "metadata": {
        "id": "e17cQLHsZoQU",
        "colab_type": "code",
        "colab": {
          "base_uri": "https://localhost:8080/",
          "height": 34
        },
        "outputId": "1ee4e087-feb9-473a-a051-7049e6e9534f"
      },
      "source": [
        "#Listo las carpetas que contiene el dataset\n",
        "!ls 'drive/My Drive/Colab Notebooks/Dataset/covid19/'"
      ],
      "execution_count": 2,
      "outputs": [
        {
          "output_type": "stream",
          "text": [
            "PNEUMONIA  test  train\n"
          ],
          "name": "stdout"
        }
      ]
    },
    {
      "cell_type": "code",
      "metadata": {
        "id": "w7D6wHhNZqsr",
        "colab_type": "code",
        "colab": {
          "base_uri": "https://localhost:8080/",
          "height": 364
        },
        "outputId": "a4840054-cc0a-4c1c-f447-7137e13a2873"
      },
      "source": [
        "#Verifico la capacidad de GPU\n",
        "!nvidia-smi"
      ],
      "execution_count": 3,
      "outputs": [
        {
          "output_type": "stream",
          "text": [
            "Tue Jun 30 20:23:50 2020       \n",
            "+-----------------------------------------------------------------------------+\n",
            "| NVIDIA-SMI 450.36.06    Driver Version: 418.67       CUDA Version: 10.1     |\n",
            "|-------------------------------+----------------------+----------------------+\n",
            "| GPU  Name        Persistence-M| Bus-Id        Disp.A | Volatile Uncorr. ECC |\n",
            "| Fan  Temp  Perf  Pwr:Usage/Cap|         Memory-Usage | GPU-Util  Compute M. |\n",
            "|                               |                      |               MIG M. |\n",
            "|===============================+======================+======================|\n",
            "|   0  Tesla P100-PCIE...  Off  | 00000000:00:04.0 Off |                    0 |\n",
            "| N/A   35C    P0    25W / 250W |      0MiB / 16280MiB |      0%      Default |\n",
            "|                               |                      |                 ERR! |\n",
            "+-------------------------------+----------------------+----------------------+\n",
            "                                                                               \n",
            "+-----------------------------------------------------------------------------+\n",
            "| Processes:                                                                  |\n",
            "|  GPU   GI   CI        PID   Type   Process name                  GPU Memory |\n",
            "|        ID   ID                                                   Usage      |\n",
            "|=============================================================================|\n",
            "|  No running processes found                                                 |\n",
            "+-----------------------------------------------------------------------------+\n"
          ],
          "name": "stdout"
        }
      ]
    },
    {
      "cell_type": "code",
      "metadata": {
        "id": "YxNXufo_ZtfC",
        "colab_type": "code",
        "colab": {}
      },
      "source": [
        "#Librerias a importar\n",
        "import torch\n",
        "import torch.nn as nn\n",
        "import torch.nn.functional as F\n",
        "import torchvision\n",
        "import numpy as np\n",
        "import matplotlib.pyplot as plt\n",
        "from torchvision import datasets, models, transforms\n",
        "import time\n",
        "import copy"
      ],
      "execution_count": 4,
      "outputs": []
    },
    {
      "cell_type": "code",
      "metadata": {
        "id": "soRgYX3FbnQO",
        "colab_type": "code",
        "colab": {
          "base_uri": "https://localhost:8080/",
          "height": 346
        },
        "outputId": "18b7a9cb-5c37-4408-9ad5-396a1bb6c1b0"
      },
      "source": [
        "train_dataset = torchvision.datasets.ImageFolder('drive/My Drive/Colab Notebooks/Dataset/covid19/train',\n",
        "                                                transform=transforms.Compose([\n",
        "                                                    transforms.RandomResizedCrop(224),\n",
        "                                                    transforms. ToTensor(),\n",
        "                                                    transforms.Normalize([0.544], [0.181])\n",
        "                                                    \n",
        "                                                ]))\n",
        "test_dataset = torchvision.datasets.ImageFolder('drive/My Drive/Colab Notebooks/Dataset/covid19/test',\n",
        "                                              transform=transforms.Compose([\n",
        "                                                    transforms.Resize(256),\n",
        "                                                    transforms.CenterCrop(224),\n",
        "                                                    transforms. ToTensor(),\n",
        "                                                    transforms.Normalize([0.485, 0.456, 0.406], [0.229, 0.224, 0.225])\n",
        "                                                    \n",
        "                                                ]))\n",
        "print(train_dataset)\n",
        "print(test_dataset)"
      ],
      "execution_count": 5,
      "outputs": [
        {
          "output_type": "stream",
          "text": [
            "Dataset ImageFolder\n",
            "    Number of datapoints: 2908\n",
            "    Root location: drive/My Drive/Colab Notebooks/Dataset/covid19/train\n",
            "    StandardTransform\n",
            "Transform: Compose(\n",
            "               RandomResizedCrop(size=(224, 224), scale=(0.08, 1.0), ratio=(0.75, 1.3333), interpolation=PIL.Image.BILINEAR)\n",
            "               ToTensor()\n",
            "               Normalize(mean=[0.544], std=[0.181])\n",
            "           )\n",
            "Dataset ImageFolder\n",
            "    Number of datapoints: 40\n",
            "    Root location: drive/My Drive/Colab Notebooks/Dataset/covid19/test\n",
            "    StandardTransform\n",
            "Transform: Compose(\n",
            "               Resize(size=256, interpolation=PIL.Image.BILINEAR)\n",
            "               CenterCrop(size=(224, 224))\n",
            "               ToTensor()\n",
            "               Normalize(mean=[0.485, 0.456, 0.406], std=[0.229, 0.224, 0.225])\n",
            "           )\n"
          ],
          "name": "stdout"
        }
      ]
    },
    {
      "cell_type": "code",
      "metadata": {
        "id": "3Et3ku1teZTW",
        "colab_type": "code",
        "colab": {}
      },
      "source": [
        "batch_size_train = 8\n",
        "batch_size_test = 8\n",
        "learning_rate = 0.001\n",
        "num_epocas = 25\n",
        "step_log = 100\n",
        "\n",
        "train_loader = torch.utils.data.DataLoader(dataset=train_dataset, \n",
        "                                          batch_size = batch_size_train,\n",
        "                                          shuffle=True)\n",
        "test_loader = torch.utils.data.DataLoader(dataset=test_dataset,\n",
        "                                         batch_size = batch_size_test,\n",
        "                                         shuffle=True)\n",
        "class_names = train_dataset.classes"
      ],
      "execution_count": 6,
      "outputs": []
    },
    {
      "cell_type": "code",
      "metadata": {
        "id": "crXw7U_pe3zs",
        "colab_type": "code",
        "colab": {
          "base_uri": "https://localhost:8080/",
          "height": 106
        },
        "outputId": "1a3b8b7a-e92e-43e8-8a34-66da548bb4f5"
      },
      "source": [
        "def imshow(inp, title = None):\n",
        "  inp = inp.numpy().transpose((1, 2, 0))\n",
        "  mean = np.array([0.544])\n",
        "  std = np.array([0.181])\n",
        "  inp = std * inp + mean\n",
        "  inp = np.clip(inp, 0, 1)\n",
        "  plt.imshow(inp)\n",
        "  \n",
        "  if title is not None:\n",
        "    plt.title(title)\n",
        "  plt.pause(0.001)\n",
        "  \n",
        "inputs, classes = next(iter(test_loader))\n",
        "out = torchvision.utils.make_grid(inputs)\n",
        "\n",
        "imshow(out, title=[class_names[x] for x in classes])"
      ],
      "execution_count": 7,
      "outputs": [
        {
          "output_type": "display_data",
          "data": {
            "image/png": "[encoded data removed]",
            "text/plain": [
              "<Figure size 432x288 with 1 Axes>"
            ]
          },
          "metadata": {
            "tags": [],
            "needs_background": "light"
          }
        }
      ]
    },
    {
      "cell_type": "code",
      "metadata": {
        "id": "OzlAApIce9_c",
        "colab_type": "code",
        "colab": {
          "base_uri": "https://localhost:8080/",
          "height": 34
        },
        "outputId": "92a662ad-3598-4fa5-e2b7-916909b9fa8b"
      },
      "source": [
        "torch.cuda.set_device(0) \n",
        "device = ('cuda' if torch.cuda.is_available() else 'cpu')\n",
        "\n",
        "print(\"Se entrenara con:\", device)"
      ],
      "execution_count": 8,
      "outputs": [
        {
          "output_type": "stream",
          "text": [
            "Se entrenara con: cuda\n"
          ],
          "name": "stdout"
        }
      ]
    },
    {
      "cell_type": "code",
      "metadata": {
        "id": "8BnhIUr0UxS9",
        "colab_type": "code",
        "colab": {}
      },
      "source": [
        "class Network(nn.Module):\n",
        "  def __init__(self):\n",
        "    super(Network, self).__init__()\n",
        "    self.conv1 = nn.Conv2d(3, 10, kernel_size=5)\n",
        "    self.conv2 = nn.Conv2d(10, 256, kernel_size=3)    \n",
        "    self.bn1 = nn.BatchNorm2d(256)    \n",
        "    self.conv3 = nn.Conv2d(256, 512, kernel_size=3)\n",
        "    #512 de la capa previa, 26 tamaño de la imagen\n",
        "    self.fc1 = nn.Linear(512*26*26,50)  #Una capa full conected, 50 es el numero de neuronas q quiero \n",
        "    self.fc2 = nn.Linear(50,2) #son  clases\n",
        "    \n",
        "  def forward(self, x):\n",
        "    x = F.max_pool2d(F.relu(self.conv1(x)), 2)  #2 el tamaño de la ventana de pooling\n",
        "    #x = F.max_pool2d(F.relu(self.conv2(x)), 2)\n",
        "    x = F.max_pool2d(F.relu(self.bn1(self.conv2(x))), 2)\n",
        "    x = F.max_pool2d(F.relu(self.conv3(x)), 2)\n",
        "    #x = F.relu(self.conv3(x)\n",
        "    #x = x.view(-1,30*5*5) #al valor de x le hago un, -1 desdoblo las dimensiones a un size de 320\n",
        "    x = x.view(-1, self.num_flat_features(x))\n",
        "    x = F.relu(self.fc1(x))\n",
        "    x = self.fc2(x)\n",
        "    return F.log_softmax(x)\n",
        "  \n",
        "  def num_flat_features(self, x):\n",
        "        size = x.size()[1:]  # all dimensions except the batch dimension\n",
        "        num_features = 1\n",
        "        for s in size:\n",
        "            num_features *= s\n",
        "        return num_features \n",
        "\n",
        "network = Network()"
      ],
      "execution_count": 9,
      "outputs": []
    },
    {
      "cell_type": "code",
      "metadata": {
        "id": "hBFNOlSIU6ih",
        "colab_type": "code",
        "colab": {}
      },
      "source": [
        "network = network.to(device)"
      ],
      "execution_count": 10,
      "outputs": []
    },
    {
      "cell_type": "code",
      "metadata": {
        "id": "cXFfe_CHU7Wq",
        "colab_type": "code",
        "colab": {}
      },
      "source": [
        "#Modelo\n",
        "def train_model(model, criterio, optimizer, scheduler, num_epochs):  \n",
        "    since = time.time()\n",
        "    \n",
        "    best_model_wts = copy.deepcopy(model.state_dict())\n",
        "    best_acc = 0.0\n",
        "    best_acc_train = 0.0\n",
        "    \n",
        "    for epoch in range(num_epochs):\n",
        "        print('Epoch {}/{}'.format(epoch, num_epochs-1))\n",
        "        print('-' * 25)\n",
        "    \n",
        "        #Train model\n",
        "        #During an epoch, we need to update the LR using the ‘.step()’ method of the scheduler object\n",
        "        scheduler.step()\n",
        "        #Tells your model that you are training the model\n",
        "        model.train()\n",
        "    \n",
        "        running_loss = 0.0\n",
        "        running_corrects = 0.0\n",
        "    \n",
        "        for inputs, labels in train_loader:\n",
        "            inputs = inputs.to(device)\n",
        "            labels = labels.to(device)\n",
        "        \n",
        "            #In PyTorch, we need to set the gradients to zero before starting to do backpropragation \n",
        "            #because PyTorch accumulates the gradients on subsequent backward passes.\n",
        "            optimizer.zero_grad()\n",
        "        \n",
        "            outputs = model(inputs)\n",
        "        \n",
        "            #Si utilizo softmax, puedo usar exp\n",
        "            #We are doing it here just to make our predictions look like probabilities \n",
        "            #which sometimes helps in debugging. You are free to remove torch.exp \n",
        "            #call in the code if you want. torch.max returns a tuple containing the maximum value \n",
        "            #and the index of the maximum value within the tensor. Since the index in our case \n",
        "            #represents the classified category itself, we will only take that ignoring \n",
        "            #the actual probability.\n",
        "            #_, preds = torch.max(torch.exp(outputs), 1)\n",
        "        \n",
        "            #pytorch.max\n",
        "            #Returns the maximum value of all elements in the input tensor.\n",
        "            _, preds = torch.max(outputs, 1)\n",
        "        \n",
        "            #you should use labels, because u need to get loss by comparing ground truth \n",
        "            #and predicting label, the predict is outputs, and the ground truth is labels\n",
        "            loss = criterion(outputs, labels)\n",
        "        \n",
        "            #loss.backward() computes dloss/dx for every parameter x which has \n",
        "            #requires_grad=True. These are accumulated into x.grad for every parameter x        \n",
        "            loss.backward()\n",
        "        \n",
        "            #optimizer.step updates the value of x using the gradient x.grad\n",
        "            optimizer.step()\n",
        "        \n",
        "            #the loss returned is an average over all examples in a batch, given this, \n",
        "            #you could simply divide the running loss by the number of batches, \n",
        "            #however since the final batch is often not the same size with others, \n",
        "            #your results would be inaccurate, hence, the solution is to reverse the average \n",
        "            #by multiplying the loss in a batch by the total number of images in the batch, \n",
        "            #this gives unaveraged sum of losses over all examples, when you divide the running loss \n",
        "            #by the total number of images ,you get accurate loss metrics.\n",
        "            running_loss += loss.item() * inputs.size(0)\n",
        "            running_corrects += torch.sum(preds == labels.data)\n",
        "        \n",
        "        epoch_loss_train = running_loss /len(train_dataset)\n",
        "        epoch_acc_train = running_corrects.double() / len(train_dataset)\n",
        "    \n",
        "        print('Train Loss: {:.4f} Acc: {:.4f}'.format(epoch_loss_train, epoch_acc_train))\n",
        "        if epoch_acc_train > best_acc_train:\n",
        "              best_acc_train = epoch_acc_train\n",
        "\n",
        "              best_model_wts = copy.deepcopy(model.state_dict())\n",
        "              torch.save(best_model_wts, 'resnetxt.pth')\n",
        "   \n",
        "   #validation--- se elimino\n",
        "              \n",
        "    time_elapsed = time.time() - since\n",
        "    print(\"####################################################\")\n",
        "    print('Training complete in {:.0f}m {:.0f}s'.format(time_elapsed//60, time_elapsed % 60))\n",
        "    print('Best train accucary: {:.4f}'.format(best_acc_train))\n",
        "    #print('Best val accucary: {:.4f}'.format(best_acc))\n",
        "    model.load_state_dict(best_model_wts)\n",
        "    return model"
      ],
      "execution_count": 11,
      "outputs": []
    },
    {
      "cell_type": "code",
      "metadata": {
        "id": "Yiwka0hwVJma",
        "colab_type": "code",
        "colab": {}
      },
      "source": [
        "def test_model(model):\n",
        "    model.eval()\n",
        "    running_loss = 0.0\n",
        "    running_corrects = 0.0\n",
        "    \n",
        "    best_model_wts = copy.deepcopy(model.state_dict())\n",
        "    best_acc = 0.0\n",
        "    \n",
        "    for inputs, labels in test_loader:\n",
        "        inputs = inputs.to(device)\n",
        "        labels = labels.to(device)\n",
        "        \n",
        "        with torch.set_grad_enabled(False):\n",
        "            outputs = model(inputs)\n",
        "            _, preds = torch.max(outputs, 1)\n",
        "            loss = criterion(outputs, labels)\n",
        "            \n",
        "        running_loss += loss.item() * inputs.size(0)\n",
        "        running_corrects += torch.sum(preds == labels.data)\n",
        "            \n",
        "    epoch_loss = running_loss /len(test_dataset)\n",
        "    epoch_acc = running_corrects.double() / len(test_dataset)\n",
        "        \n",
        "    print('Test Loss: {:.4f} Acc: {:.4f}'.format(epoch_loss, epoch_acc))\n",
        "    return test_model"
      ],
      "execution_count": 12,
      "outputs": []
    },
    {
      "cell_type": "code",
      "metadata": {
        "id": "Z6q8DVINVPma",
        "colab_type": "code",
        "colab": {}
      },
      "source": [
        "def visualize_model(model, num_images):\n",
        "    was_training = model.training\n",
        "    model.eval()\n",
        "    images_so_far = 0\n",
        "    fig = plt.figure()\n",
        "    \n",
        "    with torch.no_grad():\n",
        "        for i, (inputs, labels) in enumerate(test_loader):\n",
        "            inputs = inputs.to(device)\n",
        "            labels = labels.to(device)\n",
        "            \n",
        "            outputs = model(inputs)\n",
        "            _, preds = torch.max(outputs, 1)\n",
        "            \n",
        "            for j in range(inputs.size()[0]):\n",
        "                images_so_far +=1\n",
        "                ax = plt.subplot(num_images//2, 2, images_so_far)\n",
        "                ax.axis('off')\n",
        "                ax.set_title('predicted: {}'.format(class_names[preds[j]]))\n",
        "                imshow(inputs.cpu().data[j])\n",
        "                \n",
        "                if images_so_far == num_images:\n",
        "                    model.train(mode=was_training)\n",
        "                    return\n",
        "                \n",
        "        model.train(mode = was_training)"
      ],
      "execution_count": 13,
      "outputs": []
    },
    {
      "cell_type": "code",
      "metadata": {
        "id": "TRBK6RZAVVCb",
        "colab_type": "code",
        "colab": {
          "base_uri": "https://localhost:8080/",
          "height": 1000
        },
        "outputId": "1819e026-0f26-4e46-9bed-e2527f336942"
      },
      "source": [
        "optimizer = torch.optim.SGD(network.parameters(), lr=learning_rate, momentum=0.9)\n",
        "criterion = nn.CrossEntropyLoss()\n",
        "scheduler = torch.optim.lr_scheduler.StepLR(optimizer, step_size=4, gamma=0.1)\n",
        "\n",
        "model_propio = train_model(network, criterion, optimizer, scheduler, num_epochs=100)"
      ],
      "execution_count": 14,
      "outputs": [
        {
          "output_type": "stream",
          "text": [
            "Epoch 0/99\n",
            "-------------------------\n"
          ],
          "name": "stdout"
        },
        {
          "output_type": "stream",
          "text": [
            "/usr/local/lib/python3.6/dist-packages/torch/optim/lr_scheduler.py:123: UserWarning: Detected call of `lr_scheduler.step()` before `optimizer.step()`. In PyTorch 1.1.0 and later, you should call them in the opposite order: `optimizer.step()` before `lr_scheduler.step()`.  Failure to do this will result in PyTorch skipping the first value of the learning rate schedule. See more details at https://pytorch.org/docs/stable/optim.html#how-to-adjust-learning-rate\n",
            "  \"https://pytorch.org/docs/stable/optim.html#how-to-adjust-learning-rate\", UserWarning)\n",
            "/usr/local/lib/python3.6/dist-packages/ipykernel_launcher.py:22: UserWarning: Implicit dimension choice for log_softmax has been deprecated. Change the call to include dim=X as an argument.\n"
          ],
          "name": "stderr"
        },
        {
          "output_type": "stream",
          "text": [
            "Train Loss: 0.5814 Acc: 0.7063\n",
            "Epoch 1/99\n",
            "-------------------------\n",
            "Train Loss: 0.4663 Acc: 0.8030\n",
            "Epoch 2/99\n",
            "-------------------------\n",
            "Train Loss: 0.4205 Acc: 0.8239\n",
            "Epoch 3/99\n",
            "-------------------------\n",
            "Train Loss: 0.3768 Acc: 0.8477\n",
            "Epoch 4/99\n",
            "-------------------------\n",
            "Train Loss: 0.3487 Acc: 0.8618\n",
            "Epoch 5/99\n",
            "-------------------------\n",
            "Train Loss: 0.3532 Acc: 0.8563\n",
            "Epoch 6/99\n",
            "-------------------------\n",
            "Train Loss: 0.3280 Acc: 0.8680\n",
            "Epoch 7/99\n",
            "-------------------------\n",
            "Train Loss: 0.3280 Acc: 0.8759\n",
            "Epoch 8/99\n",
            "-------------------------\n",
            "Train Loss: 0.3434 Acc: 0.8628\n",
            "Epoch 9/99\n",
            "-------------------------\n",
            "Train Loss: 0.3326 Acc: 0.8669\n",
            "Epoch 10/99\n",
            "-------------------------\n",
            "Train Loss: 0.3379 Acc: 0.8659\n",
            "Epoch 11/99\n",
            "-------------------------\n",
            "Train Loss: 0.3120 Acc: 0.8796\n",
            "Epoch 12/99\n",
            "-------------------------\n",
            "Train Loss: 0.3281 Acc: 0.8728\n",
            "Epoch 13/99\n",
            "-------------------------\n",
            "Train Loss: 0.3207 Acc: 0.8762\n",
            "Epoch 14/99\n",
            "-------------------------\n",
            "Train Loss: 0.3286 Acc: 0.8714\n",
            "Epoch 15/99\n",
            "-------------------------\n",
            "Train Loss: 0.3268 Acc: 0.8728\n",
            "Epoch 16/99\n",
            "-------------------------\n",
            "Train Loss: 0.3213 Acc: 0.8738\n",
            "Epoch 17/99\n",
            "-------------------------\n",
            "Train Loss: 0.3259 Acc: 0.8697\n",
            "Epoch 18/99\n",
            "-------------------------\n",
            "Train Loss: 0.3102 Acc: 0.8827\n",
            "Epoch 19/99\n",
            "-------------------------\n",
            "Train Loss: 0.3225 Acc: 0.8721\n",
            "Epoch 20/99\n",
            "-------------------------\n",
            "Train Loss: 0.3228 Acc: 0.8697\n",
            "Epoch 21/99\n",
            "-------------------------\n",
            "Train Loss: 0.3152 Acc: 0.8762\n",
            "Epoch 22/99\n",
            "-------------------------\n",
            "Train Loss: 0.3199 Acc: 0.8741\n",
            "Epoch 23/99\n",
            "-------------------------\n",
            "Train Loss: 0.3306 Acc: 0.8669\n",
            "Epoch 24/99\n",
            "-------------------------\n",
            "Train Loss: 0.3218 Acc: 0.8728\n",
            "Epoch 25/99\n",
            "-------------------------\n",
            "Train Loss: 0.3301 Acc: 0.8728\n",
            "Epoch 26/99\n",
            "-------------------------\n",
            "Train Loss: 0.3387 Acc: 0.8669\n",
            "Epoch 27/99\n",
            "-------------------------\n",
            "Train Loss: 0.3270 Acc: 0.8700\n",
            "Epoch 28/99\n",
            "-------------------------\n",
            "Train Loss: 0.3296 Acc: 0.8686\n",
            "Epoch 29/99\n",
            "-------------------------\n",
            "Train Loss: 0.3094 Acc: 0.8776\n",
            "Epoch 30/99\n",
            "-------------------------\n",
            "Train Loss: 0.3177 Acc: 0.8728\n",
            "Epoch 31/99\n",
            "-------------------------\n",
            "Train Loss: 0.3253 Acc: 0.8697\n",
            "Epoch 32/99\n",
            "-------------------------\n",
            "Train Loss: 0.3171 Acc: 0.8765\n",
            "Epoch 33/99\n",
            "-------------------------\n",
            "Train Loss: 0.3273 Acc: 0.8728\n",
            "Epoch 34/99\n",
            "-------------------------\n",
            "Train Loss: 0.3267 Acc: 0.8741\n",
            "Epoch 35/99\n",
            "-------------------------\n",
            "Train Loss: 0.3139 Acc: 0.8793\n",
            "Epoch 36/99\n",
            "-------------------------\n",
            "Train Loss: 0.3267 Acc: 0.8707\n",
            "Epoch 37/99\n",
            "-------------------------\n",
            "Train Loss: 0.3103 Acc: 0.8735\n",
            "Epoch 38/99\n",
            "-------------------------\n",
            "Train Loss: 0.3311 Acc: 0.8676\n",
            "Epoch 39/99\n",
            "-------------------------\n",
            "Train Loss: 0.3317 Acc: 0.8676\n",
            "Epoch 40/99\n",
            "-------------------------\n",
            "Train Loss: 0.3201 Acc: 0.8752\n",
            "Epoch 41/99\n",
            "-------------------------\n",
            "Train Loss: 0.3362 Acc: 0.8669\n",
            "Epoch 42/99\n",
            "-------------------------\n",
            "Train Loss: 0.3358 Acc: 0.8673\n",
            "Epoch 43/99\n",
            "-------------------------\n",
            "Train Loss: 0.3252 Acc: 0.8700\n",
            "Epoch 44/99\n",
            "-------------------------\n",
            "Train Loss: 0.3370 Acc: 0.8642\n",
            "Epoch 45/99\n",
            "-------------------------\n",
            "Train Loss: 0.3240 Acc: 0.8717\n",
            "Epoch 46/99\n",
            "-------------------------\n",
            "Train Loss: 0.3261 Acc: 0.8714\n",
            "Epoch 47/99\n",
            "-------------------------\n",
            "Train Loss: 0.3315 Acc: 0.8690\n",
            "Epoch 48/99\n",
            "-------------------------\n",
            "Train Loss: 0.3139 Acc: 0.8803\n",
            "Epoch 49/99\n",
            "-------------------------\n",
            "Train Loss: 0.3264 Acc: 0.8686\n",
            "Epoch 50/99\n",
            "-------------------------\n",
            "Train Loss: 0.3292 Acc: 0.8666\n",
            "Epoch 51/99\n",
            "-------------------------\n",
            "Train Loss: 0.3427 Acc: 0.8614\n",
            "Epoch 52/99\n",
            "-------------------------\n",
            "Train Loss: 0.3235 Acc: 0.8735\n",
            "Epoch 53/99\n",
            "-------------------------\n",
            "Train Loss: 0.3247 Acc: 0.8707\n",
            "Epoch 54/99\n",
            "-------------------------\n",
            "Train Loss: 0.3274 Acc: 0.8686\n",
            "Epoch 55/99\n",
            "-------------------------\n",
            "Train Loss: 0.3371 Acc: 0.8704\n",
            "Epoch 56/99\n",
            "-------------------------\n",
            "Train Loss: 0.3180 Acc: 0.8820\n",
            "Epoch 57/99\n",
            "-------------------------\n",
            "Train Loss: 0.3236 Acc: 0.8735\n",
            "Epoch 58/99\n",
            "-------------------------\n",
            "Train Loss: 0.3207 Acc: 0.8765\n",
            "Epoch 59/99\n",
            "-------------------------\n",
            "Train Loss: 0.3341 Acc: 0.8731\n",
            "Epoch 60/99\n",
            "-------------------------\n",
            "Train Loss: 0.3295 Acc: 0.8690\n",
            "Epoch 61/99\n",
            "-------------------------\n",
            "Train Loss: 0.3112 Acc: 0.8779\n",
            "Epoch 62/99\n",
            "-------------------------\n",
            "Train Loss: 0.3205 Acc: 0.8779\n",
            "Epoch 63/99\n",
            "-------------------------\n",
            "Train Loss: 0.3423 Acc: 0.8635\n",
            "Epoch 64/99\n",
            "-------------------------\n",
            "Train Loss: 0.3210 Acc: 0.8731\n",
            "Epoch 65/99\n",
            "-------------------------\n",
            "Train Loss: 0.3249 Acc: 0.8772\n",
            "Epoch 66/99\n",
            "-------------------------\n",
            "Train Loss: 0.3265 Acc: 0.8669\n",
            "Epoch 67/99\n",
            "-------------------------\n",
            "Train Loss: 0.3249 Acc: 0.8724\n",
            "Epoch 68/99\n",
            "-------------------------\n",
            "Train Loss: 0.3280 Acc: 0.8738\n",
            "Epoch 69/99\n",
            "-------------------------\n",
            "Train Loss: 0.3248 Acc: 0.8700\n",
            "Epoch 70/99\n",
            "-------------------------\n",
            "Train Loss: 0.3203 Acc: 0.8752\n",
            "Epoch 71/99\n",
            "-------------------------\n",
            "Train Loss: 0.3298 Acc: 0.8710\n",
            "Epoch 72/99\n",
            "-------------------------\n",
            "Train Loss: 0.3118 Acc: 0.8738\n",
            "Epoch 73/99\n",
            "-------------------------\n",
            "Train Loss: 0.3242 Acc: 0.8686\n",
            "Epoch 74/99\n",
            "-------------------------\n",
            "Train Loss: 0.3335 Acc: 0.8666\n",
            "Epoch 75/99\n",
            "-------------------------\n",
            "Train Loss: 0.3271 Acc: 0.8710\n",
            "Epoch 76/99\n",
            "-------------------------\n",
            "Train Loss: 0.3326 Acc: 0.8649\n",
            "Epoch 77/99\n",
            "-------------------------\n",
            "Train Loss: 0.3222 Acc: 0.8759\n",
            "Epoch 78/99\n",
            "-------------------------\n",
            "Train Loss: 0.3201 Acc: 0.8796\n",
            "Epoch 79/99\n",
            "-------------------------\n",
            "Train Loss: 0.3302 Acc: 0.8686\n",
            "Epoch 80/99\n",
            "-------------------------\n",
            "Train Loss: 0.3263 Acc: 0.8666\n",
            "Epoch 81/99\n",
            "-------------------------\n",
            "Train Loss: 0.3266 Acc: 0.8714\n",
            "Epoch 82/99\n",
            "-------------------------\n",
            "Train Loss: 0.3215 Acc: 0.8762\n",
            "Epoch 83/99\n",
            "-------------------------\n",
            "Train Loss: 0.3202 Acc: 0.8755\n",
            "Epoch 84/99\n",
            "-------------------------\n",
            "Train Loss: 0.3222 Acc: 0.8738\n",
            "Epoch 85/99\n",
            "-------------------------\n",
            "Train Loss: 0.3193 Acc: 0.8762\n",
            "Epoch 86/99\n",
            "-------------------------\n",
            "Train Loss: 0.3256 Acc: 0.8686\n",
            "Epoch 87/99\n",
            "-------------------------\n",
            "Train Loss: 0.3136 Acc: 0.8790\n",
            "Epoch 88/99\n",
            "-------------------------\n",
            "Train Loss: 0.3135 Acc: 0.8752\n",
            "Epoch 89/99\n",
            "-------------------------\n",
            "Train Loss: 0.3231 Acc: 0.8728\n",
            "Epoch 90/99\n",
            "-------------------------\n",
            "Train Loss: 0.3246 Acc: 0.8693\n",
            "Epoch 91/99\n",
            "-------------------------\n",
            "Train Loss: 0.3268 Acc: 0.8669\n",
            "Epoch 92/99\n",
            "-------------------------\n",
            "Train Loss: 0.3242 Acc: 0.8693\n",
            "Epoch 93/99\n",
            "-------------------------\n",
            "Train Loss: 0.3330 Acc: 0.8721\n",
            "Epoch 94/99\n",
            "-------------------------\n",
            "Train Loss: 0.3229 Acc: 0.8741\n",
            "Epoch 95/99\n",
            "-------------------------\n",
            "Train Loss: 0.3357 Acc: 0.8683\n",
            "Epoch 96/99\n",
            "-------------------------\n",
            "Train Loss: 0.3254 Acc: 0.8683\n",
            "Epoch 97/99\n",
            "-------------------------\n",
            "Train Loss: 0.3231 Acc: 0.8683\n",
            "Epoch 98/99\n",
            "-------------------------\n",
            "Train Loss: 0.3190 Acc: 0.8769\n",
            "Epoch 99/99\n",
            "-------------------------\n",
            "Train Loss: 0.3188 Acc: 0.8759\n",
            "####################################################\n",
            "Training complete in 128m 43s\n",
            "Best train accucary: 0.8827\n"
          ],
          "name": "stdout"
        }
      ]
    },
    {
      "cell_type": "code",
      "metadata": {
        "id": "q1igrhAlVZBT",
        "colab_type": "code",
        "colab": {
          "base_uri": "https://localhost:8080/",
          "height": 52
        },
        "outputId": "4757af57-1b13-4e80-ffe1-cd2f6938022f"
      },
      "source": [
        "model_propio_test = test_model(model_propio)"
      ],
      "execution_count": 15,
      "outputs": [
        {
          "output_type": "stream",
          "text": [
            "/usr/local/lib/python3.6/dist-packages/ipykernel_launcher.py:22: UserWarning: Implicit dimension choice for log_softmax has been deprecated. Change the call to include dim=X as an argument.\n"
          ],
          "name": "stderr"
        },
        {
          "output_type": "stream",
          "text": [
            "Test Loss: 1.4970 Acc: 0.3500\n"
          ],
          "name": "stdout"
        }
      ]
    },
    {
      "cell_type": "code",
      "metadata": {
        "id": "myzEasMkVcGa",
        "colab_type": "code",
        "colab": {
          "base_uri": "https://localhost:8080/",
          "height": 650
        },
        "outputId": "3534506e-e37a-4fcc-aa53-bd758e0d801b"
      },
      "source": [
        "visualize_model(model=model_propio, num_images = 8)"
      ],
      "execution_count": 16,
      "outputs": [
        {
          "output_type": "stream",
          "text": [
            "/usr/local/lib/python3.6/dist-packages/ipykernel_launcher.py:22: UserWarning: Implicit dimension choice for log_softmax has been deprecated. Change the call to include dim=X as an argument.\n"
          ],
          "name": "stderr"
        },
        {
          "output_type": "display_data",
          "data": {
            "image/png": "[encoded data removed]",
            "text/plain": [
              "<Figure size 432x288 with 1 Axes>"
            ]
          },
          "metadata": {
            "tags": [],
            "needs_background": "light"
          }
        },
        {
          "output_type": "display_data",
          "data": {
            "image/png": "[encoded data removed]",
            "text/plain": [
              "<Figure size 432x288 with 1 Axes>"
            ]
          },
          "metadata": {
            "tags": [],
            "needs_background": "light"
          }
        },
        {
          "output_type": "display_data",
          "data": {
            "image/png": "[encoded data removed]",
            "text/plain": [
              "<Figure size 432x288 with 1 Axes>"
            ]
          },
          "metadata": {
            "tags": [],
            "needs_background": "light"
          }
        },
        {
          "output_type": "display_data",
          "data": {
            "image/png": "[encoded data removed]",
            "text/plain": [
              "<Figure size 432x288 with 1 Axes>"
            ]
          },
          "metadata": {
            "tags": [],
            "needs_background": "light"
          }
        },
        {
          "output_type": "display_data",
          "data": {
            "image/png": "[encoded data removed]",
            "text/plain": [
              "<Figure size 432x288 with 1 Axes>"
            ]
          },
          "metadata": {
            "tags": [],
            "needs_background": "light"
          }
        },
        {
          "output_type": "display_data",
          "data": {
            "image/png": "[encoded data removed]",
            "text/plain": [
              "<Figure size 432x288 with 1 Axes>"
            ]
          },
          "metadata": {
            "tags": [],
            "needs_background": "light"
          }
        },
        {
          "output_type": "display_data",
          "data": {
            "image/png": "[encoded data removed]",
            "text/plain": [
              "<Figure size 432x288 with 1 Axes>"
            ]
          },
          "metadata": {
            "tags": [],
            "needs_background": "light"
          }
        },
        {
          "output_type": "display_data",
          "data": {
            "image/png": "[encoded data removed]",
            "text/plain": [
              "<Figure size 432x288 with 1 Axes>"
            ]
          },
          "metadata": {
            "tags": [],
            "needs_background": "light"
          }
        }
      ]
    }
  ]
}